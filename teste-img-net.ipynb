{
 "cells": [
  {
   "cell_type": "code",
   "execution_count": 1,
   "metadata": {},
   "outputs": [],
   "source": [
    "import cv2\n",
    "import numpy as np\n",
    "import matplotlib.pyplot as plt\n",
    "from PIL import Image\n",
    "import torch\n",
    "from torchvision import transforms\n",
    "import onnxruntime"
   ]
  },
  {
   "cell_type": "code",
   "execution_count": 4,
   "metadata": {},
   "outputs": [
    {
     "data": {
      "image/png": "[encoded data removed]",
      "text/plain": [
       "<Figure size 400x400 with 1 Axes>"
      ]
     },
     "metadata": {},
     "output_type": "display_data"
    }
   ],
   "source": [
    "# 1) Lê a imagem em escala de cinza\n",
    "img_path = \"3.png\"\n",
    "img_pil = Image.open(img_path).convert(\"L\")\n",
    "img_np = np.array(img_pil)\n",
    "\n",
    "# 2) Se precisar inverter\n",
    "img_np = 255 - img_np\n",
    "\n",
    "\n",
    "# 3) Tentar um threshold automático (Otsu)\n",
    "_, img_bin = cv2.threshold(img_np, 0, 255, cv2.THRESH_BINARY + cv2.THRESH_OTSU)\n",
    "\n",
    "\n",
    "\n",
    "# 4) Recortar o dígito\n",
    "rows = np.any(img_bin, axis=1)\n",
    "cols = np.any(img_bin, axis=0)\n",
    "\n",
    "if np.any(rows) and np.any(cols):\n",
    "    rmin, rmax = np.where(rows)[0][[0, -1]]\n",
    "    cmin, cmax = np.where(cols)[0][[0, -1]]\n",
    "    cropped = img_bin[rmin:rmax+1, cmin:cmax+1]\n",
    "else:\n",
    "    cropped = img_bin\n",
    "\n",
    "\n",
    "\n",
    "# 5) Redimensionar para 20×20\n",
    "cropped_pil = Image.fromarray(cropped)\n",
    "cropped_20 = cropped_pil.resize((20, 20), Image.Resampling.LANCZOS)\n",
    "\n",
    "\n",
    "# 6) Centralizar em 28x28\n",
    "final_img = Image.new('L', (28, 28), color=0)\n",
    "left = (28 - 20) // 2\n",
    "top = (28 - 20) // 2\n",
    "final_img.paste(cropped_20, (left, top))\n",
    "\n",
    "# 7) Exiber o resultado final\n",
    "plt.figure(figsize=(4, 4))\n",
    "plt.imshow(final_img, cmap='gray')\n",
    "plt.title(\"Imagem preprocessada para parecer MNIST\")\n",
    "plt.axis('off')\n",
    "plt.show()\n"
   ]
  },
  {
   "cell_type": "code",
   "execution_count": 5,
   "metadata": {},
   "outputs": [
    {
     "name": "stdout",
     "output_type": "stream",
     "text": [
      "Predição ONNX: 3\n"
     ]
    }
   ],
   "source": [
    "# Define as mesmas transformações usadas no treinamento do MNIST\n",
    "transform = transforms.Compose([\n",
    "    transforms.ToTensor(),\n",
    "    transforms.Normalize((0.1307,), (0.3081,))\n",
    "])\n",
    "\n",
    "# Converte a imagem final para tensor e normaliza\n",
    "img_tensor = transform(final_img)         # shape [1, 28, 28]\n",
    "img_tensor = img_tensor.unsqueeze(0)      # shape [1, 1, 28, 28] (batch de 1)\n",
    "\n",
    "# Converte para NumPy (ONNX Runtime trabalha com arrays)\n",
    "img_np = img_tensor.cpu().numpy()\n",
    "\n",
    "# Carrega o modelo ONNX\n",
    "session = onnxruntime.InferenceSession(\"model.onnx\")\n",
    "\n",
    "# Descobre o nome do input do modelo\n",
    "input_name = session.get_inputs()[0].name\n",
    "\n",
    "# Faz a inferência\n",
    "outputs = session.run(None, {input_name: img_np})\n",
    "\n",
    "# A saída geralmente é um array de probabilidades/logits\n",
    "pred = np.argmax(outputs[0])\n",
    "print(\"Predição ONNX:\", pred)"
   ]
  },
  {
   "cell_type": "code",
   "execution_count": null,
   "metadata": {},
   "outputs": [],
   "source": []
  }
 ],
 "metadata": {
  "kernelspec": {
   "display_name": "Python 3",
   "language": "python",
   "name": "python3"
  },
  "language_info": {
   "codemirror_mode": {
    "name": "ipython",
    "version": 3
   },
   "file_extension": ".py",
   "mimetype": "text/x-python",
   "name": "python",
   "nbconvert_exporter": "python",
   "pygments_lexer": "ipython3",
   "version": "3.10.6"
  }
 },
 "nbformat": 4,
 "nbformat_minor": 2
}
