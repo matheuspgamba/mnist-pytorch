{
 "cells": [
  {
   "cell_type": "code",
   "execution_count": 3,
   "metadata": {},
   "outputs": [
    {
     "name": "stdout",
     "output_type": "stream",
     "text": [
      "Modelo exportado para ONNX com sucesso!\n"
     ]
    },
    {
     "name": "stderr",
     "output_type": "stream",
     "text": [
      "C:\\Users\\Matheus\\AppData\\Local\\Temp\\ipykernel_123740\\3842736651.py:9: FutureWarning: You are using `torch.load` with `weights_only=False` (the current default value), which uses the default pickle module implicitly. It is possible to construct malicious pickle data which will execute arbitrary code during unpickling (See https://github.com/pytorch/pytorch/blob/main/SECURITY.md#untrusted-models for more details). In a future release, the default value for `weights_only` will be flipped to `True`. This limits the functions that could be executed during unpickling. Arbitrary objects will no longer be allowed to be loaded via this mode unless they are explicitly allowlisted by the user via `torch.serialization.add_safe_globals`. We recommend you start setting `weights_only=True` for any use case where you don't have full control of the loaded file. Please open an issue on GitHub for any issues related to this experimental feature.\n",
      "  model.load_state_dict(torch.load(\"checkpoints/best_model.pth\", map_location=device))\n"
     ]
    }
   ],
   "source": [
    "import torch\n",
    "from model import Net\n",
    "\n",
    "# Define o dispositivo (GPU ou CPU)\n",
    "device = torch.device(\"cuda\" if torch.cuda.is_available() else \"cpu\")\n",
    "\n",
    "# Instancia o modelo, carrega os pesos e coloca em modo avaliação\n",
    "model = Net().to(device)\n",
    "model.load_state_dict(torch.load(\"checkpoints/best_model.pth\", map_location=device))\n",
    "model.eval()\n",
    "\n",
    "# Cria um input fictício (dummy input) com o formato esperado: [batch_size, canais, altura, largura]\n",
    "dummy_input = torch.randn(1, 1, 28, 28, device=device)\n",
    "\n",
    "# Exporta o modelo para ONNX\n",
    "torch.onnx.export(\n",
    "    model,                        # Modelo PyTorch\n",
    "    dummy_input,                  # Exemplo de input\n",
    "    \"model.onnx\",                 # Nome do arquivo ONNX de saída\n",
    "    input_names=[\"input\"],        # Nome do input\n",
    "    output_names=[\"output\"],      # Nome do output\n",
    "    opset_version=11,             # Versão do ONNX (ajuste conforme necessário)\n",
    "    do_constant_folding=True      # Otimização durante a exportação\n",
    ")\n",
    "\n",
    "print(\"Modelo exportado para ONNX com sucesso!\")\n"
   ]
  },
  {
   "cell_type": "code",
   "execution_count": null,
   "metadata": {},
   "outputs": [],
   "source": []
  }
 ],
 "metadata": {
  "kernelspec": {
   "display_name": "Python 3",
   "language": "python",
   "name": "python3"
  },
  "language_info": {
   "codemirror_mode": {
    "name": "ipython",
    "version": 3
   },
   "file_extension": ".py",
   "mimetype": "text/x-python",
   "name": "python",
   "nbconvert_exporter": "python",
   "pygments_lexer": "ipython3",
   "version": "3.10.6"
  }
 },
 "nbformat": 4,
 "nbformat_minor": 2
}
